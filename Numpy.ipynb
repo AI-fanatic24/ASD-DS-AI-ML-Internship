{
  "nbformat": 4,
  "nbformat_minor": 0,
  "metadata": {
    "colab": {
      "provenance": [],
      "authorship_tag": "ABX9TyOUhO04U3W4VeiPT2pC17N3",
      "include_colab_link": true
    },
    "kernelspec": {
      "name": "python3",
      "display_name": "Python 3"
    },
    "language_info": {
      "name": "python"
    }
  },
  "cells": [
    {
      "cell_type": "markdown",
      "metadata": {
        "id": "view-in-github",
        "colab_type": "text"
      },
      "source": [
        "<a href=\"https://colab.research.google.com/github/AI-fanatic24/ASD-DS-AI-ML-Internship/blob/main/Numpy.ipynb\" target=\"_parent\"><img src=\"https://colab.research.google.com/assets/colab-badge.svg\" alt=\"Open In Colab\"/></a>"
      ]
    },
    {
      "cell_type": "code",
      "execution_count": null,
      "metadata": {
        "id": "w1ARN7jwWA3y"
      },
      "outputs": [],
      "source": [
        "import numpy as np"
      ]
    },
    {
      "cell_type": "markdown",
      "source": [
        "1. A teacher stores the scores of 10 students in a 1D NumPy array. Write code to display the 1D array and print scores greater than 50."
      ],
      "metadata": {
        "id": "-Svew9k3WGor"
      }
    },
    {
      "cell_type": "code",
      "source": [
        "scores = np.array([60,30,42,55,34,55,66,64,48,55])\n",
        "print(\"Scores greater than 50 are:\")\n",
        "print(scores[scores>50])"
      ],
      "metadata": {
        "colab": {
          "base_uri": "https://localhost:8080/"
        },
        "id": "yThwyPygWD1D",
        "outputId": "b894a3c6-72ba-40f2-f876-0d94b64c81f8"
      },
      "execution_count": null,
      "outputs": [
        {
          "output_type": "stream",
          "name": "stdout",
          "text": [
            "Scores greater than 50 are:\n",
            "[60 55 55 66 64 55]\n"
          ]
        }
      ]
    },
    {
      "cell_type": "markdown",
      "source": [
        "2. Using the same scores array, find the mean score of the class."
      ],
      "metadata": {
        "id": "C6vk9oVUW6QI"
      }
    },
    {
      "cell_type": "code",
      "source": [
        "print(\"Mean of scores:\",np.mean(scores))"
      ],
      "metadata": {
        "colab": {
          "base_uri": "https://localhost:8080/"
        },
        "id": "WkHoIJ7XWoiD",
        "outputId": "945e1b89-481a-4e9f-e684-085557158402"
      },
      "execution_count": null,
      "outputs": [
        {
          "output_type": "stream",
          "name": "stdout",
          "text": [
            "Mean of scores: 50.9\n"
          ]
        }
      ]
    },
    {
      "cell_type": "markdown",
      "source": [
        "3. Determine the median of the scores to check the central tendency."
      ],
      "metadata": {
        "id": "oQaZflTzXN6w"
      }
    },
    {
      "cell_type": "code",
      "source": [
        "print(\"Median of scores:\",np.median(scores))"
      ],
      "metadata": {
        "colab": {
          "base_uri": "https://localhost:8080/"
        },
        "id": "c-wWBb0fXCOZ",
        "outputId": "b66d5424-68c8-424c-ef63-f23700272f5a"
      },
      "execution_count": null,
      "outputs": [
        {
          "output_type": "stream",
          "name": "stdout",
          "text": [
            "Median of scores: 55.0\n"
          ]
        }
      ]
    },
    {
      "cell_type": "markdown",
      "source": [
        "4. Find the mode of the scores to identify the most frequent score."
      ],
      "metadata": {
        "id": "pLGvLtZAXkuS"
      }
    },
    {
      "cell_type": "code",
      "source": [
        "scores_elements,scores_count = np.unique(scores,return_counts=True)\n",
        "print(\"Elements:\",scores_elements)\n",
        "print(\"Counts:\",scores_count)\n",
        "index = np.where(scores_count == np.max(scores_count))\n",
        "print(index)\n",
        "print(\"Mode of scores:\",int(scores_elements[index]))"
      ],
      "metadata": {
        "colab": {
          "base_uri": "https://localhost:8080/"
        },
        "id": "i8R8RIhFXVRt",
        "outputId": "b08a034c-3fb4-4f78-a678-8e764e265850"
      },
      "execution_count": null,
      "outputs": [
        {
          "output_type": "stream",
          "name": "stdout",
          "text": [
            "Elements: [30 34 42 48 55 60 64 66]\n",
            "Counts: [1 1 1 1 3 1 1 1]\n",
            "(array([4]),)\n",
            "Mode of scores: 55\n"
          ]
        }
      ]
    },
    {
      "cell_type": "markdown",
      "source": [
        "5. You are given a 2D NumPy array containing temperatures recorded over 4 weeks (rows) for 7 days (columns). Display the full array and the temperature of the second week."
      ],
      "metadata": {
        "id": "lWlGGjyZaoiz"
      }
    },
    {
      "cell_type": "code",
      "source": [
        "temperature = np.array([\n",
        "    [32,34,35,38,34,36,39],\n",
        "    [34,38,40,42,41,38,39],\n",
        "    [40,41,38,39,40,40,35],\n",
        "    [36,37,37,38,36,38,39],\n",
        "])\n",
        "\n",
        "print(temperature)\n",
        "print()\n",
        "print(\"---Temperature of second week in (degree Celcius)---\")\n",
        "print(\"\\t   \",temperature[1])"
      ],
      "metadata": {
        "colab": {
          "base_uri": "https://localhost:8080/"
        },
        "id": "X8JvlNB-Xrr3",
        "outputId": "40f31a7e-82c5-4343-8dbb-46d28a8d12b0"
      },
      "execution_count": null,
      "outputs": [
        {
          "output_type": "stream",
          "name": "stdout",
          "text": [
            "[[32 34 35 38 34 36 39]\n",
            " [34 38 40 42 41 38 39]\n",
            " [40 41 38 39 40 40 35]\n",
            " [36 37 37 38 36 38 39]]\n",
            "\n",
            "---Temperature of second week in (degree Celcius)---\n",
            "\t    [34 38 40 42 41 38 39]\n"
          ]
        }
      ]
    },
    {
      "cell_type": "markdown",
      "source": [
        "6. Find the highest temperature of the month using NumPy."
      ],
      "metadata": {
        "id": "BiXEy4mchSzU"
      }
    },
    {
      "cell_type": "code",
      "source": [
        "temperature = np.array([34, 41, 35, 33, 42, 37, 43, 31, 38, 36, 34, 40, 39, 44, 32, 41, 35, 43, 30, 44, 42, 33, 41, 38, 34, 45, 36, 41, 37, 43])\n",
        "print(\"Highest temperature of the month is\",np.max(temperature),\"degree Celcius.\")"
      ],
      "metadata": {
        "colab": {
          "base_uri": "https://localhost:8080/"
        },
        "id": "IrVpLIQpgaao",
        "outputId": "8eba6cee-0a69-4924-d683-d0626591fd12"
      },
      "execution_count": null,
      "outputs": [
        {
          "output_type": "stream",
          "name": "stdout",
          "text": [
            "Highest temperature of the month is 45 degree Celcius.\n"
          ]
        }
      ]
    },
    {
      "cell_type": "markdown",
      "source": [
        "7. Normalize all temperatures using Min-Max normalization formula."
      ],
      "metadata": {
        "id": "Dmyw225vjAd0"
      }
    },
    {
      "cell_type": "code",
      "source": [
        "temperature = np.array([34, 41, 35, 33, 42, 37, 43, 31, 38, 36, 34, 40, 39, 44, 32, 41, 35, 43, 30, 44, 42, 33, 41, 38, 34, 45, 36, 41, 37, 43])\n",
        "normalized_temperature = (temperature - np.min(temperature)) / (np.max(temperature) - np.min(temperature))\n",
        "print(\"Normalized Temperature:\")\n",
        "print(normalized_temperature)"
      ],
      "metadata": {
        "colab": {
          "base_uri": "https://localhost:8080/"
        },
        "id": "Vu62_9Xyh9-t",
        "outputId": "725e44cc-9b71-43b6-a080-51a720c802e4"
      },
      "execution_count": null,
      "outputs": [
        {
          "output_type": "stream",
          "name": "stdout",
          "text": [
            "Normalized Temperature:\n",
            "[0.26666667 0.73333333 0.33333333 0.2        0.8        0.46666667\n",
            " 0.86666667 0.06666667 0.53333333 0.4        0.26666667 0.66666667\n",
            " 0.6        0.93333333 0.13333333 0.73333333 0.33333333 0.86666667\n",
            " 0.         0.93333333 0.8        0.2        0.73333333 0.53333333\n",
            " 0.26666667 1.         0.4        0.73333333 0.46666667 0.86666667]\n"
          ]
        }
      ]
    },
    {
      "cell_type": "markdown",
      "source": [
        "8. Calculate the standard deviation of the temperature data."
      ],
      "metadata": {
        "id": "3fE23vVpkDq6"
      }
    },
    {
      "cell_type": "code",
      "source": [
        "temperature = np.array([34, 41, 35, 33, 42, 37, 43, 31, 38, 36, 34, 40, 39, 44, 32, 41, 35, 43, 30, 44, 42, 33, 41, 38, 34, 45, 36, 41, 37, 43])\n",
        "print(\"Standard Deviation:\",np.std(temperature))"
      ],
      "metadata": {
        "colab": {
          "base_uri": "https://localhost:8080/"
        },
        "id": "Bpji1RW_j-9Y",
        "outputId": "f41ce6c1-7914-4248-c408-93a065b04e5d"
      },
      "execution_count": null,
      "outputs": [
        {
          "output_type": "stream",
          "name": "stdout",
          "text": [
            "Standard Deviation: 4.25780329382287\n"
          ]
        }
      ]
    },
    {
      "cell_type": "markdown",
      "source": [
        "9. A supermarket tracks stock of 3 products over 4 weeks and 5 categories. Represent this using a 3D NumPy array. Write code to access stock of 2nd product in week 3."
      ],
      "metadata": {
        "id": "5BmdqwdtkZGx"
      }
    },
    {
      "cell_type": "code",
      "source": [
        "'''\n",
        "ALTERNATIVE:\n",
        "arr = np.random.randint(5,40,60).reshape(5,3,4)\n",
        "print(arr)\n",
        "'''\n",
        "\n",
        "stocks = np.array([\n",
        "    [[5,6,8,12],\n",
        "     [10,22,12,34],\n",
        "     [15,16,8,11]],\n",
        "\n",
        "    [[12,43,23,23],\n",
        "     [14,32,16,7],\n",
        "     [23,33,12,9]],\n",
        "\n",
        "    [[44,12,22,18],\n",
        "     [22,43,18,17],\n",
        "     [18,16,15,20]],\n",
        "\n",
        "    [[18,16,22,28],\n",
        "     [26,24,33,15],\n",
        "     [11,27,14,26]],\n",
        "\n",
        "    [[13,22,27,32],\n",
        "     [32,26,24,33],\n",
        "     [2,5,4,8]]\n",
        "])\n",
        "\n"
      ],
      "metadata": {
        "colab": {
          "base_uri": "https://localhost:8080/"
        },
        "id": "HfUzZtQVkNFf",
        "outputId": "2a5dbdfb-8f9d-4e09-af99-60106caa4b07"
      },
      "execution_count": null,
      "outputs": [
        {
          "output_type": "stream",
          "name": "stdout",
          "text": [
            "[23 33 12  9]\n"
          ]
        }
      ]
    },
    {
      "cell_type": "code",
      "source": [
        "print(stocks[1,2,3])"
      ],
      "metadata": {
        "colab": {
          "base_uri": "https://localhost:8080/"
        },
        "id": "qvC8NIrLl94Q",
        "outputId": "a7fd24e3-66be-4623-9caf-f6ce3013f173"
      },
      "execution_count": null,
      "outputs": [
        {
          "output_type": "stream",
          "name": "stdout",
          "text": [
            "9\n"
          ]
        }
      ]
    },
    {
      "cell_type": "code",
      "source": [
        "print(\"---Stock of second product in week 3 over 5 categories---\")\n",
        "print(stocks[:,1,2])"
      ],
      "metadata": {
        "colab": {
          "base_uri": "https://localhost:8080/"
        },
        "id": "AJEqei0JnQit",
        "outputId": "5b0f5397-7e77-41bc-d05a-21c71540704d"
      },
      "execution_count": null,
      "outputs": [
        {
          "output_type": "stream",
          "name": "stdout",
          "text": [
            "---Stock of second product in week 3 over 5 categories---\n",
            "[12 16 18 33 24]\n"
          ]
        }
      ]
    },
    {
      "cell_type": "markdown",
      "source": [
        "10. Calculate the total stock of each product over all weeks and categories."
      ],
      "metadata": {
        "id": "waEqbdyWoDby"
      }
    },
    {
      "cell_type": "code",
      "source": [
        "print(\"Total stock of each product over all weeks and categories:\",np.sum(stocks))"
      ],
      "metadata": {
        "colab": {
          "base_uri": "https://localhost:8080/"
        },
        "id": "VKI2o0UUnwwi",
        "outputId": "53d9983a-78a5-472e-9b6c-2bc451d8f307"
      },
      "execution_count": null,
      "outputs": [
        {
          "output_type": "stream",
          "name": "stdout",
          "text": [
            "Total stock of each product over all weeks and categories: 1159\n"
          ]
        }
      ]
    },
    {
      "cell_type": "markdown",
      "source": [
        "11. A 1D NumPy array holds survey ratings (scale of 1–10) from 50 people. Find how many people rated more than 7."
      ],
      "metadata": {
        "id": "T6EUeOglokmZ"
      }
    },
    {
      "cell_type": "code",
      "source": [
        "ratings = np.random.randint(1,11,50)\n",
        "print(\"---RATINGS---\")\n",
        "print(ratings)\n",
        "print()\n",
        "print(\"Number of people who rated more than 7:\",len(ratings[ratings>7]))"
      ],
      "metadata": {
        "colab": {
          "base_uri": "https://localhost:8080/"
        },
        "id": "VQbDDjLaoKwl",
        "outputId": "9c199b69-38b1-4b85-b5c4-d96e85790f76"
      },
      "execution_count": null,
      "outputs": [
        {
          "output_type": "stream",
          "name": "stdout",
          "text": [
            "---RATINGS---\n",
            "[ 3  2  5  6  2 10  7  3  3  6  3  3 10  7  8  3  1  7  2  9  6  7 10  6\n",
            "  6  9  9  6  8  4  1  3  6 10  2  2  9  2  1  9  8 10  9  2  7  9  2 10\n",
            "  1  4]\n",
            "\n",
            "Number of people who rated more than 7: 16\n"
          ]
        }
      ]
    },
    {
      "cell_type": "markdown",
      "source": [
        "12. Count how many people gave a neutral rating (rating == 5)."
      ],
      "metadata": {
        "id": "hENfHw0AqqLa"
      }
    },
    {
      "cell_type": "code",
      "source": [
        "print(\"Number of people who gave a neutral rating (rating == 5):\",len(ratings[ratings==5]))"
      ],
      "metadata": {
        "colab": {
          "base_uri": "https://localhost:8080/"
        },
        "id": "1u40Aqqdp0NM",
        "outputId": "a67b5187-c172-463e-8724-fc8b3b87fd02"
      },
      "execution_count": null,
      "outputs": [
        {
          "output_type": "stream",
          "name": "stdout",
          "text": [
            "Number of people who gave a neutral rating (rating == 5): 1\n"
          ]
        }
      ]
    },
    {
      "cell_type": "markdown",
      "source": [
        "13. Normalize the ratings between 0 and 1."
      ],
      "metadata": {
        "id": "Z01ntpa7q4_n"
      }
    },
    {
      "cell_type": "code",
      "source": [
        "ratings_normalized = (ratings - np.min(ratings)) / (np.max(ratings) - np.min(ratings))\n",
        "print(\"Normalized Ratings:\",ratings_normalized)"
      ],
      "metadata": {
        "colab": {
          "base_uri": "https://localhost:8080/"
        },
        "id": "E1H1sJanq16d",
        "outputId": "b7e1200c-0861-4cd4-dfdc-abbf8ef3e0e7"
      },
      "execution_count": null,
      "outputs": [
        {
          "output_type": "stream",
          "name": "stdout",
          "text": [
            "Normalized Ratings: [0.22222222 0.11111111 0.44444444 0.55555556 0.11111111 1.\n",
            " 0.66666667 0.22222222 0.22222222 0.55555556 0.22222222 0.22222222\n",
            " 1.         0.66666667 0.77777778 0.22222222 0.         0.66666667\n",
            " 0.11111111 0.88888889 0.55555556 0.66666667 1.         0.55555556\n",
            " 0.55555556 0.88888889 0.88888889 0.55555556 0.77777778 0.33333333\n",
            " 0.         0.22222222 0.55555556 1.         0.11111111 0.11111111\n",
            " 0.88888889 0.11111111 0.         0.88888889 0.77777778 1.\n",
            " 0.88888889 0.11111111 0.66666667 0.88888889 0.11111111 1.\n",
            " 0.         0.33333333]\n"
          ]
        }
      ]
    },
    {
      "cell_type": "markdown",
      "source": [
        "14. A fitness app stores 7 days of step count for 5 users in a 2D array. Find the average steps per user."
      ],
      "metadata": {
        "id": "fQ5a3206rTOz"
      }
    },
    {
      "cell_type": "code",
      "source": [
        "steps = np.random.randint(2000,8000,35).reshape(5,7)\n",
        "print(steps)\n",
        "print()\n",
        "print(\"Average steps per user:\",np.round((np.mean(steps,axis=1))))"
      ],
      "metadata": {
        "colab": {
          "base_uri": "https://localhost:8080/"
        },
        "id": "cEFctYgtrSGO",
        "outputId": "ec44835e-ec1c-4f72-ce2d-2febe1ddde95"
      },
      "execution_count": null,
      "outputs": [
        {
          "output_type": "stream",
          "name": "stdout",
          "text": [
            "[[4356 5335 2346 2815 3098 3030 6261]\n",
            " [7082 2319 6228 7579 3148 5284 3705]\n",
            " [7502 2442 5664 4248 5795 4621 3723]\n",
            " [5889 4612 6778 7183 4448 2464 6514]\n",
            " [3671 6778 4940 6222 2580 2199 4272]]\n",
            "\n",
            "Average steps per user: [3892. 5049. 4856. 5413. 4380.]\n"
          ]
        }
      ]
    },
    {
      "cell_type": "markdown",
      "source": [
        "15. Display the steps recorded on day 3 for all users."
      ],
      "metadata": {
        "id": "O0dfF1FauJqy"
      }
    },
    {
      "cell_type": "code",
      "source": [
        "print(\"Step count on day-3 for all users:\")\n",
        "print(steps[:,2])"
      ],
      "metadata": {
        "colab": {
          "base_uri": "https://localhost:8080/"
        },
        "id": "j911QWCasfg0",
        "outputId": "49cca30e-2aa8-4443-988f-d5bdb7a3f849"
      },
      "execution_count": null,
      "outputs": [
        {
          "output_type": "stream",
          "name": "stdout",
          "text": [
            "Step count on day-3 for all users:\n",
            "[2346 6228 5664 6778 4940]\n"
          ]
        }
      ]
    },
    {
      "cell_type": "markdown",
      "source": [
        "16. Identify users who walked more than 7000 steps on any day."
      ],
      "metadata": {
        "id": "MUGxTxI7urzS"
      }
    },
    {
      "cell_type": "code",
      "source": [
        "c=0\n",
        "print(\"Users who walked more than 7000 steps on any day:\")\n",
        "for i in steps:\n",
        "  for j in i:\n",
        "    if j>7000:\n",
        "      print(c+1,end=\" \")\n",
        "      break\n",
        "  c=c+1"
      ],
      "metadata": {
        "colab": {
          "base_uri": "https://localhost:8080/"
        },
        "id": "dATus8PzufVx",
        "outputId": "5c039a6d-7803-4675-b94a-6996a0b4082f"
      },
      "execution_count": null,
      "outputs": [
        {
          "output_type": "stream",
          "name": "stdout",
          "text": [
            "Users who walked more than 7000 steps on any day:\n",
            "2 3 4 "
          ]
        }
      ]
    },
    {
      "cell_type": "markdown",
      "source": [
        "17. Record the results of 10 trials for 3 chemical samples using a 2D array. Calculate the mean result for each chemical."
      ],
      "metadata": {
        "id": "sAA80snWw6ZI"
      }
    },
    {
      "cell_type": "code",
      "source": [
        "results = np.random.rand(30).reshape(3,10) # rows = chemicals, columns = trials\n",
        "print(results)\n",
        "print()\n",
        "print(\"Mean for each chemical:\",np.mean(results,axis=1))"
      ],
      "metadata": {
        "colab": {
          "base_uri": "https://localhost:8080/"
        },
        "id": "WxXTVWk4u1Pz",
        "outputId": "5ac1aa74-44d2-4c13-eec0-12d2ac84cec8"
      },
      "execution_count": null,
      "outputs": [
        {
          "output_type": "stream",
          "name": "stdout",
          "text": [
            "[[0.09786111 0.30265686 0.65053272 0.67646334 0.6043444  0.31651675\n",
            "  0.89560856 0.56487896 0.37145222 0.89293653]\n",
            " [0.77919229 0.8685219  0.77879215 0.23943039 0.65943071 0.28339471\n",
            "  0.99534958 0.90224291 0.14010697 0.56030493]\n",
            " [0.48485713 0.88049472 0.7988997  0.05450016 0.45943816 0.19995833\n",
            "  0.31953289 0.21643398 0.1655849  0.94655761]]\n",
            "\n",
            "Mean for each chemical: [0.53732515 0.62067665 0.45262576]\n"
          ]
        }
      ]
    },
    {
      "cell_type": "markdown",
      "source": [
        "18. Determine which trial had the highest deviation from the mean for each sample."
      ],
      "metadata": {
        "id": "La-2TFE-x0nb"
      }
    },
    {
      "cell_type": "code",
      "source": [
        "mean = np.mean(results,axis=1)\n",
        "print(mean)"
      ],
      "metadata": {
        "colab": {
          "base_uri": "https://localhost:8080/"
        },
        "id": "ANyHpvFlx9Kt",
        "outputId": "1d24b870-b7c9-4e9e-ac24-3c0271c63bd7"
      },
      "execution_count": null,
      "outputs": [
        {
          "output_type": "stream",
          "name": "stdout",
          "text": [
            "[0.53732515 0.62067665 0.45262576]\n"
          ]
        }
      ]
    },
    {
      "cell_type": "code",
      "source": [
        "deviation = mean.reshape(-1,1) - results\n",
        "print(deviation)"
      ],
      "metadata": {
        "colab": {
          "base_uri": "https://localhost:8080/"
        },
        "id": "6fmqLNWZxU2G",
        "outputId": "5071b759-d3b1-4d96-9873-da2f717a89b7"
      },
      "execution_count": null,
      "outputs": [
        {
          "output_type": "stream",
          "name": "stdout",
          "text": [
            "[[ 0.43946404  0.23466828 -0.11320757 -0.13913819 -0.06701925  0.22080839\n",
            "  -0.35828342 -0.02755382  0.16587292 -0.35561138]\n",
            " [-0.15851564 -0.24784525 -0.1581155   0.38124627 -0.03875406  0.33728195\n",
            "  -0.37467293 -0.28156626  0.48056968  0.06037172]\n",
            " [-0.03223137 -0.42786896 -0.34627394  0.3981256  -0.0068124   0.25266742\n",
            "   0.13309287  0.23619178  0.28704086 -0.49393185]]\n"
          ]
        }
      ]
    },
    {
      "cell_type": "code",
      "source": [
        "highest_deviation = np.argmax(deviation,axis=1)\n",
        "print(\"Trial with highest deviation from mean for each sample:\")\n",
        "for i in range(len(highest_deviation)):\n",
        "  print(\"Sample:\",i+1,\"Trial number:\",highest_deviation[i]+1)"
      ],
      "metadata": {
        "colab": {
          "base_uri": "https://localhost:8080/"
        },
        "id": "kr1MurNv0dOP",
        "outputId": "4473fb7a-ef8c-480f-e0f9-2474c476d9ce"
      },
      "execution_count": null,
      "outputs": [
        {
          "output_type": "stream",
          "name": "stdout",
          "text": [
            "Trial with highest deviation from mean for each sample:\n",
            "Sample: 1 Trial number: 1\n",
            "Sample: 2 Trial number: 9\n",
            "Sample: 3 Trial number: 4\n"
          ]
        }
      ]
    },
    {
      "cell_type": "markdown",
      "source": [
        "19. A hospital records 3 vital signs for 2 patients over 5 days. Store this in a 3D array and retrieve the vitals for the first patient on day 4."
      ],
      "metadata": {
        "id": "5JaiLaS_13fX"
      }
    },
    {
      "cell_type": "code",
      "source": [
        "vitals=np.random.randint(10,100,30).reshape(2,5,3) #block = patient, row = day, column = vital signs\n",
        "print(vitals)"
      ],
      "metadata": {
        "colab": {
          "base_uri": "https://localhost:8080/"
        },
        "id": "YcUGt2NZ13st",
        "outputId": "7d581716-2300-41d5-85c8-4537530d99bf"
      },
      "execution_count": null,
      "outputs": [
        {
          "output_type": "stream",
          "name": "stdout",
          "text": [
            "[[[45 65 37]\n",
            "  [67 75 41]\n",
            "  [45 83 67]\n",
            "  [14 26 27]\n",
            "  [45 92 99]]\n",
            "\n",
            " [[52 95 35]\n",
            "  [89 31 23]\n",
            "  [99 22 17]\n",
            "  [91 28 83]\n",
            "  [99 74 33]]]\n"
          ]
        }
      ]
    },
    {
      "cell_type": "code",
      "source": [
        "print(\"---Vitals of the first patient on day 4---\")\n",
        "print(vitals[0,3,:])"
      ],
      "metadata": {
        "colab": {
          "base_uri": "https://localhost:8080/"
        },
        "id": "Fz3q0LW92SrQ",
        "outputId": "1f786472-65ac-4eab-a12c-710fdc871a0c"
      },
      "execution_count": null,
      "outputs": [
        {
          "output_type": "stream",
          "name": "stdout",
          "text": [
            "---Vitals of the first patient on day 4---\n",
            "[14 26 27]\n"
          ]
        }
      ]
    },
    {
      "cell_type": "markdown",
      "source": [
        "20. Find the mode of a particular vital sign for one patient across all days."
      ],
      "metadata": {
        "id": "DRvkRuMF28m5"
      }
    },
    {
      "cell_type": "code",
      "source": [
        "arr = vitals[1,:,0]\n",
        "arr_elements,arr_count = np.unique(arr,return_counts=True)\n",
        "print(\"Elements:\",arr_elements)\n",
        "print(\"Counts:\",arr_count)\n",
        "index = np.where(arr_count == np.max(arr_count))\n",
        "print(index)\n",
        "print('----------------------------------------------------')\n",
        "print(\"Mode of vital-1 for patient number 2 across all days:\",int(arr_elements[index]))"
      ],
      "metadata": {
        "colab": {
          "base_uri": "https://localhost:8080/"
        },
        "id": "bXR52umq20nE",
        "outputId": "dd8594a6-8d54-4dd2-bea4-c810a0efbcd8"
      },
      "execution_count": null,
      "outputs": [
        {
          "output_type": "stream",
          "name": "stdout",
          "text": [
            "Elements: [52 89 91 99]\n",
            "Counts: [1 1 1 2]\n",
            "(array([3]),)\n",
            "----------------------------------------------------\n",
            "Mode of vital-1 for patient number 2 across all days: 99\n"
          ]
        }
      ]
    }
  ]
}